{
 "cells": [
  {
   "cell_type": "markdown",
   "metadata": {},
   "source": [
    "## Import libraries"
   ]
  },
  {
   "cell_type": "code",
   "execution_count": 1,
   "metadata": {},
   "outputs": [],
   "source": [
    "import pandas as pd\n",
    "import numpy as np\n",
    "import os\n",
    "import matplotlib\n",
    "import matplotlib.pyplot as plt\n",
    "import numpy as np"
   ]
  },
  {
   "cell_type": "markdown",
   "metadata": {},
   "source": [
    "## Import Raw Data"
   ]
  },
  {
   "cell_type": "code",
   "execution_count": 2,
   "metadata": {},
   "outputs": [],
   "source": [
    "orig_dir = os.getcwd()\n",
    "os.chdir(orig_dir)\n",
    "\n",
    "bridges_dataset = pd.read_excel('raw_data/BMMS_overview.xlsx')\n",
    "roads_dataset = pd.read_csv('raw_data/_roads3.csv')\n",
    "widths_dataset = pd.concat([pd.read_csv(\"raw_data/road_widths/\" + r + \".widths.processed.txt\", sep=\"\\t\")\n",
    "                                  for r in roads_dataset.road.unique()])\n",
    "\n",
    "traffic_dataset = pd.concat([pd.read_html(\"raw_data/road_traffic/\" + r + \".traffic.htm\")[4].iloc[3:].reset_index(drop=True)\n",
    "                                  for r in roads_dataset.road.unique()]).reset_index(drop=True)\n",
    "traffic_num_cols = [\"Heavy Truck\",\"Medium Truck\",\"Small Truck\",\"Large Bus\",\"Medium Bus\", \"Micro Bus\",\"Utility\",\n",
    "            \"Car\",\"Auto Rickshaw\",\"Motor Cycle\",\"Bi-Cycle\",\"Cycle Rickshaw\",\n",
    "            \"Cart\",\"Motorized\",\"Non Motorized\",\"AADT\"]\n",
    "traffic_dataset.columns = [\"Link\",\"Name\",\"startLRP\",\"startOffset\",\"startChainage\",\"endLRP\",\"endOffset\",\n",
    "                           \"endChainage\",\"Km\"] + traffic_num_cols + [\"Total AADT\"]\n",
    "traffic_dataset[\"road\"] = traffic_dataset[\"Link\"].str.split(pat=\"-\", n=2, expand=True)[0]\n",
    "traffic_dataset[\"segmentNo\"] = traffic_dataset[\"Link\"].str.split(pat=\"-\", n=2, expand=True)[1].map(lambda x: x.rstrip('lLRr'))\n",
    "traffic_dataset[traffic_num_cols+[\"Km\", \"startChainage\", \"endChainage\", \"segmentNo\"]] = traffic_dataset[traffic_num_cols+[\"Km\", \"startChainage\", \"endChainage\", \"segmentNo\"]].apply(pd.to_numeric, errors='coerce')"
   ]
  },
  {
   "cell_type": "markdown",
   "metadata": {},
   "source": [
    "## Cleaning Data"
   ]
  },
  {
   "cell_type": "code",
   "execution_count": 3,
   "metadata": {
    "scrolled": true
   },
   "outputs": [],
   "source": [
    "df_bridges = bridges_dataset.sort_values(by=['road', 'chainage']).drop_duplicates(subset =['road', 'chainage'], keep='first').reset_index(drop=True)\n",
    "\n",
    "df_roads = roads_dataset.sort_values(by=['road', 'chainage']).drop_duplicates(subset =['road', 'chainage'], keep='first').reset_index(drop=True)\n",
    "\n",
    "df_widths = widths_dataset.sort_values(by=['roadNo', 'startChainage']).drop_duplicates(subset =['roadNo', 'startChainage'], keep='first').reset_index(drop=True)\n",
    "df_widths.columns = [\"road\", \"roadId\", \"startChainage\", \"endChainage\", \"width\", \"nrLanes\"]\n",
    "\n",
    "df_traffic = traffic_dataset.drop_duplicates(subset =['road', 'segmentNo'], keep='first').sort_values(by=['road', 'startChainage']).reset_index(drop=True)\n",
    "df_traffic_grouped = df_traffic.groupby(['road', 'startChainage'])[traffic_num_cols].sum().reset_index()\n",
    "df_traffic_rem = df_traffic.drop_duplicates(subset =['road', 'startChainage'], keep='first').reset_index(drop=True)\n",
    "df_traffic_grouped[[\"segmentNo\",\"Name\",\"startLRP\",\"startOffset\",\"endLRP\",\"endOffset\",\"endChainage\",\"Km\"]] = df_traffic_rem[[\"segmentNo\",\"Name\",\"startLRP\",\"startOffset\",\"endLRP\",\"endOffset\",\"endChainage\",\"Km\"]]\n",
    "\n",
    "common_road_list = sorted(list(set(df_traffic_grouped.road.unique().tolist())\n",
    "      &set(df_widths.road.unique().tolist())\n",
    "      &set(df_roads.road.unique().tolist())\n",
    "      &set(df_bridges.road.unique().tolist())))\n",
    "df_bridges_filtered = df_bridges[df_bridges.road.isin(common_road_list)].reset_index(drop=True)\n",
    "df_roads_filtered = df_roads[df_roads.road.isin(common_road_list)].reset_index(drop=True)\n",
    "df_widths_filtered = df_widths[df_widths.road.isin(common_road_list)].reset_index(drop=True)\n",
    "df_traffic_filtered = df_traffic_grouped[df_traffic_grouped.road.isin(common_road_list)].reset_index(drop=True)"
   ]
  },
  {
   "cell_type": "markdown",
   "metadata": {},
   "source": [
    "## Exploring Data"
   ]
  },
  {
   "cell_type": "code",
   "execution_count": 4,
   "metadata": {},
   "outputs": [
    {
     "data": {
      "text/plain": [
       "<matplotlib.axes._subplots.AxesSubplot at 0x7f4566623860>"
      ]
     },
     "execution_count": 4,
     "metadata": {},
     "output_type": "execute_result"
    },
    {
     "data": {
      "image/png": "[encoded data removed]",
      "text/plain": [
       "<Figure size 432x288 with 1 Axes>"
      ]
     },
     "metadata": {},
     "output_type": "display_data"
    }
   ],
   "source": [
    "road_segment_count_traffic = df_traffic_filtered.groupby('road')[\"AADT\", \"startChainage\"].count()\n",
    "road_segment_count_traffic.columns = [\"chainCount\", \"segment_count\"]\n",
    "road_segment_dist_traffic = road_segment_count_traffic.groupby('segment_count')['segment_count'].count()\n",
    "road_segment_count_traffic = road_segment_count_traffic['segment_count']\n",
    "road_segment_dist_traffic.plot(kind='bar')"
   ]
  },
  {
   "cell_type": "code",
   "execution_count": 5,
   "metadata": {},
   "outputs": [
    {
     "data": {
      "text/plain": [
       "<matplotlib.axes._subplots.AxesSubplot at 0x7f4565821908>"
      ]
     },
     "execution_count": 5,
     "metadata": {},
     "output_type": "execute_result"
    },
    {
     "data": {
      "image/png": "[encoded data removed]",
      "text/plain": [
       "<Figure size 432x288 with 1 Axes>"
      ]
     },
     "metadata": {},
     "output_type": "display_data"
    }
   ],
   "source": [
    "road_segment_count_widths = df_widths_filtered.groupby('road')[\"road\", \"width\"].count()\n",
    "road_segment_count_widths.columns = [\"chainCount\", \"segment_count\"]\n",
    "road_segment_dist_widths = road_segment_count_widths.groupby('segment_count')['segment_count'].count()\n",
    "road_segment_count_widths = road_segment_count_widths['segment_count']\n",
    "road_segment_dist_widths.plot(kind='bar')"
   ]
  },
  {
   "cell_type": "markdown",
   "metadata": {},
   "source": [
    "## Transforming Data"
   ]
  },
  {
   "cell_type": "code",
   "execution_count": 6,
   "metadata": {},
   "outputs": [],
   "source": [
    "df_roads_transformed = pd.merge_ordered(df_roads_filtered[[\"road\", \"chainage\", \"lat\", \"lon\"]], \n",
    "                                        df_traffic_filtered[[\"road\", \"startChainage\", \"segmentNo\"]],\n",
    "                                        left_on=[\"road\", \"chainage\"],\n",
    "                                        right_on=[\"road\", \"startChainage\"],\n",
    "                                        fill_method=\"ffill\",\n",
    "                                        how='outer')[[\"road\", \"segmentNo\", \"chainage\", \"lat\", \"lon\"]]"
   ]
  },
  {
   "cell_type": "code",
   "execution_count": 7,
   "metadata": {},
   "outputs": [
    {
     "name": "stdout",
     "output_type": "stream",
     "text": [
      "  road  segmentNo  chainage        lat        lon\n",
      "0   N1          1     0.000  23.706028  90.443333\n",
      "1   N1          1     0.814  23.702917  90.450417\n",
      "2   N1          2     0.822  23.702778  90.450472\n",
      "3   N1          2     1.000  23.702139  90.451972\n",
      "4   N1          2     2.000  23.697889  90.460583\n"
     ]
    }
   ],
   "source": [
    "print(df_roads_transformed.head())"
   ]
  },
  {
   "cell_type": "code",
   "execution_count": 8,
   "metadata": {},
   "outputs": [],
   "source": [
    "addnl_coords = df_roads_transformed.drop_duplicates(subset=['road', 'segmentNo'], keep = 'first').reset_index(drop=True)\n",
    "addnl_coords = addnl_coords[addnl_coords.segmentNo>1]\n",
    "addnl_coords.segmentNo -= 1\n",
    "df_roads_transformed = df_roads_transformed.append(addnl_coords).sort_values(by=['road', 'segmentNo', 'chainage']).reset_index(drop= True)"
   ]
  },
  {
   "cell_type": "code",
   "execution_count": 9,
   "metadata": {
    "scrolled": true
   },
   "outputs": [],
   "source": [
    "df_widths_transformed = pd.merge_ordered(df_widths_filtered[[\"road\", \"startChainage\", \"endChainage\", \"width\", \"nrLanes\"]], \n",
    "                 df_traffic_filtered[[\"road\", \"startChainage\", \"segmentNo\"]],\n",
    "                 left_on=[\"road\", \"startChainage\"],\n",
    "                 right_on=[\"road\", \"startChainage\"],\n",
    "                 fill_method=\"ffill\", how='outer')[[\"road\", \"segmentNo\", \"startChainage\", \"endChainage\", \"width\", \"nrLanes\"]]\n",
    "for i in range(len(df_widths_transformed) - 1):\n",
    "    if(df_widths_transformed.loc[i, 'road'] == df_widths_transformed.loc[i+1, 'road']):\n",
    "        df_widths_transformed.loc[i, 'endChainage'] = df_widths_transformed.loc[i+1, 'startChainage']\n",
    "df_widths_transformed['Km'] = df_widths_transformed['endChainage']-df_widths_transformed['startChainage']"
   ]
  },
  {
   "cell_type": "code",
   "execution_count": 10,
   "metadata": {},
   "outputs": [
    {
     "name": "stdout",
     "output_type": "stream",
     "text": [
      "  road  segmentNo  startChainage  endChainage  width  nrLanes     Km\n",
      "0   N1          1          0.000        0.130   29.7      8.0  0.130\n",
      "1   N1          1          0.130        0.400   14.0      4.0  0.270\n",
      "2   N1          1          0.400        0.822   28.3      8.0  0.422\n",
      "3   N1          2          0.822        1.050   28.3      8.0  0.228\n",
      "4   N1          2          1.050        4.175   16.5      5.0  3.125\n"
     ]
    },
    {
     "data": {
      "text/plain": [
       "<matplotlib.axes._subplots.AxesSubplot at 0x7f4565a02eb8>"
      ]
     },
     "execution_count": 10,
     "metadata": {},
     "output_type": "execute_result"
    },
    {
     "data": {
      "image/png": "[encoded data removed]",
      "text/plain": [
       "<Figure size 432x288 with 1 Axes>"
      ]
     },
     "metadata": {},
     "output_type": "display_data"
    }
   ],
   "source": [
    "print(df_widths_transformed.head())\n",
    "df_widths_transformed.Km.plot(kind='hist', bins=200)\n",
    "df_traffic_filtered.Km.plot(kind='hist', bins=200)"
   ]
  },
  {
   "cell_type": "code",
   "execution_count": 11,
   "metadata": {},
   "outputs": [
    {
     "name": "stderr",
     "output_type": "stream",
     "text": [
      "/usr/local/lib/python3.6/site-packages/ipykernel_launcher.py:2: SettingWithCopyWarning: \n",
      "A value is trying to be set on a copy of a slice from a DataFrame.\n",
      "Try using .loc[row_indexer,col_indexer] = value instead\n",
      "\n",
      "See the caveats in the documentation: http://pandas.pydata.org/pandas-docs/stable/indexing.html#indexing-view-versus-copy\n",
      "  \n"
     ]
    }
   ],
   "source": [
    "df_widths_aggregated = df_widths_transformed[[\"road\", \"segmentNo\", \"width\", \"nrLanes\", \"Km\"]]\n",
    "df_widths_aggregated['mul_width'] = df_widths_aggregated['Km'] * df_widths_aggregated['width']\n",
    "df_widths_aggregated['mul_nrLanes'] = df_widths_aggregated['Km'] * df_widths_aggregated['nrLanes']\n",
    "df_widths_aggregated = df_widths_aggregated.groupby(['road', 'segmentNo'])[['Km', 'mul_width', 'mul_nrLanes']].sum().reset_index()\n",
    "df_widths_aggregated['width'] = df_widths_aggregated['mul_width'] / df_widths_aggregated['Km']\n",
    "df_widths_aggregated['nrLanes'] = df_widths_aggregated['mul_nrLanes'] / df_widths_aggregated['Km']\n",
    "df_widths_aggregated = df_widths_aggregated[[\"road\", \"segmentNo\", \"width\", \"nrLanes\", \"Km\"]]"
   ]
  },
  {
   "cell_type": "code",
   "execution_count": 12,
   "metadata": {},
   "outputs": [
    {
     "name": "stdout",
     "output_type": "stream",
     "text": [
      "  road  segmentNo      width   nrLanes     Km\n",
      "0   N1          1  23.824331  6.686131  0.822\n",
      "1   N1          2  17.302386  5.203996  3.353\n",
      "2   N1          3  17.195110  5.290419  3.006\n",
      "3   N1          4  20.665424  5.817952  1.582\n",
      "4   N1          5  16.171541  4.398361  3.173\n"
     ]
    }
   ],
   "source": [
    "print(df_widths_aggregated.head())"
   ]
  },
  {
   "cell_type": "code",
   "execution_count": 13,
   "metadata": {},
   "outputs": [],
   "source": [
    "df_bridges_transformed = df_bridges_filtered[[\"road\", \"chainage\", \"lat\", \"lon\", \n",
    "                                              \"type\", \"name\", \"LRPName\", \"length\", \n",
    "                                              \"condition\", \"structureNr\", \"roadName\",\n",
    "                                              \"width\", \"constructionYear\", \n",
    "                                              \"spans\", \"zone\", \"circle\", \"division\", \"sub-division\"]].sort_values(by=['road','chainage']).reset_index(drop=True)\n",
    "df_bridges_transformed['segmentNo'] = 0\n",
    "for i in range(len(df_bridges_transformed)):\n",
    "    segments_df = df_traffic_filtered[df_traffic_filtered.road==df_bridges_transformed.loc[i, 'road']][['startChainage', 'endChainage', 'segmentNo']].reset_index(drop=True)\n",
    "    for j in range(len(segments_df)):\n",
    "        if((segments_df.loc[j,'startChainage'] <= df_bridges_transformed.loc[i, 'chainage'])\n",
    "           & (segments_df.loc[j,'endChainage'] >= df_bridges_transformed.loc[i, 'chainage'])):\n",
    "            df_bridges_transformed.loc[i, 'segmentNo'] = segments_df.loc[j, 'segmentNo']\n",
    "            j = len(segments_df)\n",
    "df_bridges_transformed = df_bridges_transformed[df_bridges_transformed.segmentNo!=0].sort_values(by=['road','chainage']).reset_index(drop=True)"
   ]
  },
  {
   "cell_type": "code",
   "execution_count": 14,
   "metadata": {},
   "outputs": [],
   "source": [
    "df_bridges_aggregated = df_bridges_transformed.groupby(['condition', 'road', 'segmentNo'])[['name']].count().unstack('condition', fill_value=0).reset_index()\n",
    "df_bridges_aggregated.columns = ['road', 'segmentNo', 'A_bridges', 'B_bridges', 'C_bridges', 'D_bridges']"
   ]
  },
  {
   "cell_type": "code",
   "execution_count": 15,
   "metadata": {},
   "outputs": [],
   "source": [
    "df_traffic_transformed = pd.merge_ordered(df_traffic_filtered,\n",
    "                                        df_widths_aggregated[[\"road\", \"segmentNo\", \"width\", \"nrLanes\"]],\n",
    "                                        left_on=[\"road\", \"segmentNo\"],\n",
    "                                        right_on=[\"road\", \"segmentNo\"],\n",
    "                                        fill_method=\"ffill\",\n",
    "                                        how='left')[[\"road\", \"segmentNo\", \"startChainage\", \"endChainage\", \"Km\", \"width\", \"nrLanes\"] + traffic_num_cols].sort_values(by=['road','segmentNo']).reset_index(drop=True)"
   ]
  },
  {
   "cell_type": "code",
   "execution_count": 16,
   "metadata": {},
   "outputs": [],
   "source": [
    "df_traffic_transformed = pd.merge_ordered(df_traffic_transformed,\n",
    "                                        df_bridges_aggregated[[\"road\", \"segmentNo\", 'A_bridges', 'B_bridges', 'C_bridges', 'D_bridges']],\n",
    "                                        left_on=[\"road\", \"segmentNo\"],\n",
    "                                        right_on=[\"road\", \"segmentNo\"],\n",
    "                                        how='left')[[\"road\", \"segmentNo\", \"startChainage\", \"endChainage\", \"Km\", \"width\", \"nrLanes\", 'A_bridges', 'B_bridges', 'C_bridges', 'D_bridges'] + traffic_num_cols].sort_values(by=['road','segmentNo']).reset_index(drop=True).fillna(0)"
   ]
  },
  {
   "cell_type": "code",
   "execution_count": 17,
   "metadata": {
    "scrolled": false
   },
   "outputs": [
    {
     "name": "stdout",
     "output_type": "stream",
     "text": [
      "Empty DataFrame\n",
      "Columns: [road, segmentNo, startChainage, endChainage, Km, width, nrLanes, A_bridges, B_bridges, C_bridges, D_bridges, Heavy Truck, Medium Truck, Small Truck, Large Bus, Medium Bus, Micro Bus, Utility, Car, Auto Rickshaw, Motor Cycle, Bi-Cycle, Cycle Rickshaw, Cart, Motorized, Non Motorized, AADT]\n",
      "Index: []\n",
      "\n",
      "[0 rows x 27 columns]\n"
     ]
    }
   ],
   "source": [
    "print(df_traffic_transformed.head(0))"
   ]
  },
  {
   "cell_type": "code",
   "execution_count": 18,
   "metadata": {},
   "outputs": [],
   "source": [
    "df_traffic_transformed['vulnerability'] = (0.1 * df_traffic_transformed['A_bridges'] + 0.2 * df_traffic_transformed['B_bridges']+0.4 * df_traffic_transformed['C_bridges']+ 0.8 * df_traffic_transformed['D_bridges'])/(df_traffic_transformed['Km'])"
   ]
  },
  {
   "cell_type": "code",
   "execution_count": 19,
   "metadata": {},
   "outputs": [],
   "source": [
    "#sorted(vul, reverse=True)"
   ]
  },
  {
   "cell_type": "code",
   "execution_count": 20,
   "metadata": {},
   "outputs": [
    {
     "name": "stdout",
     "output_type": "stream",
     "text": [
      "max = 3.2, min = 0.0\n",
      "max = 100, min = 0\n"
     ]
    }
   ],
   "source": [
    "# Rescalling obtained values from 0 to 10\n",
    "print('max = ' + str(df_traffic_transformed['vulnerability'].max()) + ', min = ' + str(df_traffic_transformed['vulnerability'].min()))\n",
    "n = df_traffic_transformed.shape[0]\n",
    "a = np.array(df_traffic_transformed['vulnerability'])\n",
    "old_max = a.max()\n",
    "old_min = a.min()\n",
    "old_range = (old_max - old_min)\n",
    "# New scale\n",
    "new_max = 100\n",
    "new_min = 0\n",
    "new_range = new_max - new_min\n",
    "print('max = ' + str(new_max) + ', min = ' + str(new_min))\n",
    "# Creating an empty array\n",
    "vul = np.zeros(n)\n",
    "# Rescalling\n",
    "for i in range(0, n) : \n",
    "    vul[i] = (((a[i] - old_min) * new_range) / old_range) + new_min"
   ]
  },
  {
   "cell_type": "code",
   "execution_count": 21,
   "metadata": {},
   "outputs": [],
   "source": [
    "df_traffic_transformed['vulnerability'] = vul"
   ]
  },
  {
   "cell_type": "code",
   "execution_count": 22,
   "metadata": {},
   "outputs": [],
   "source": [
    "# Calculating sum AADT value for all types of the trucks\n",
    "df_traffic_transformed['aadt_trucks'] = pd.to_numeric(df_traffic_transformed['Heavy Truck']) + pd.to_numeric(df_traffic_transformed['Medium Truck']) + pd.to_numeric(df_traffic_transformed['Small Truck'])\n",
    "df_traffic_transformed['aadt_other'] = pd.to_numeric(df_traffic_transformed['Motorized']) - pd.to_numeric(df_traffic_transformed['aadt_trucks']) + pd.to_numeric(df_traffic_transformed['Non Motorized'])\n",
    "\n",
    "# Dividing it by the number of lanes\n",
    "df_traffic_transformed['trucks_congestion'] = df_traffic_transformed['aadt_trucks'] / df_traffic_transformed['nrLanes']\n",
    "df_traffic_transformed['other_congestion'] = df_traffic_transformed['aadt_other'] / df_traffic_transformed['nrLanes']"
   ]
  },
  {
   "cell_type": "code",
   "execution_count": 23,
   "metadata": {},
   "outputs": [],
   "source": [
    "df_traffic_transformed['criticality'] = pd.to_numeric(df_traffic_transformed['trucks_congestion']) * 0.8 + pd.to_numeric(df_traffic_transformed['other_congestion']) * 0.2"
   ]
  },
  {
   "cell_type": "code",
   "execution_count": 24,
   "metadata": {
    "scrolled": true
   },
   "outputs": [
    {
     "name": "stdout",
     "output_type": "stream",
     "text": [
      "max = 6322.762284308558, min = 0.0\n",
      "max = 100, min = 0\n"
     ]
    }
   ],
   "source": [
    "# Rescalling obtained values from 0 to 10\n",
    "print('max = ' + str(df_traffic_transformed['criticality'].max()) + ', min = ' + str(df_traffic_transformed['criticality'].min()))\n",
    "\n",
    "n = df_traffic_transformed.shape[0]\n",
    "a = np.array(df_traffic_transformed['criticality'])\n",
    "\n",
    "old_max = a.max()\n",
    "old_min = a.min()\n",
    "old_range = (old_max - old_min)\n",
    "\n",
    "# New scale\n",
    "new_max = 100\n",
    "new_min = 0\n",
    "new_range = new_max - new_min\n",
    "\n",
    "print('max = ' + str(new_max) + ', min = ' + str(new_min))\n",
    "\n",
    "# Creating an empty array\n",
    "crit = np.zeros(n)\n",
    "\n",
    "# Rescalling\n",
    "for i in range(0, n) : \n",
    "    crit[i] = (((a[i] - old_min) * new_range) / old_range) + new_min"
   ]
  },
  {
   "cell_type": "code",
   "execution_count": 25,
   "metadata": {},
   "outputs": [],
   "source": [
    "df_traffic_transformed['criticality'] = crit"
   ]
  },
  {
   "cell_type": "code",
   "execution_count": 26,
   "metadata": {},
   "outputs": [],
   "source": [
    "df_traffic_transformed['priority'] = (df_traffic_transformed['criticality'] + df_traffic_transformed['vulnerability'])/2"
   ]
  },
  {
   "cell_type": "code",
   "execution_count": 27,
   "metadata": {
    "scrolled": false
   },
   "outputs": [
    {
     "name": "stdout",
     "output_type": "stream",
     "text": [
      "Empty DataFrame\n",
      "Columns: [road, segmentNo, startChainage, endChainage, Km, width, nrLanes, A_bridges, B_bridges, C_bridges, D_bridges, Heavy Truck, Medium Truck, Small Truck, Large Bus, Medium Bus, Micro Bus, Utility, Car, Auto Rickshaw, Motor Cycle, Bi-Cycle, Cycle Rickshaw, Cart, Motorized, Non Motorized, AADT, vulnerability, aadt_trucks, aadt_other, trucks_congestion, other_congestion, criticality, priority]\n",
      "Index: []\n",
      "\n",
      "[0 rows x 34 columns]\n"
     ]
    }
   ],
   "source": [
    "print(df_traffic_transformed.head(0))"
   ]
  },
  {
   "cell_type": "code",
   "execution_count": 28,
   "metadata": {},
   "outputs": [],
   "source": [
    "df_traffic_transformed.loc[df_traffic_transformed.width > 18, 'width'] = 25"
   ]
  },
  {
   "cell_type": "code",
   "execution_count": 29,
   "metadata": {
    "scrolled": true
   },
   "outputs": [],
   "source": [
    "df_traffic_aggregated = df_traffic_transformed.copy(deep=True)\n",
    "traffic_bri_cols = ['A_bridges', 'B_bridges', 'C_bridges', 'D_bridges']\n",
    "traffic_agg_cols = traffic_num_cols + [\"width\", \"nrLanes\", 'vulnerability', 'criticality', 'priority']\n",
    "for col in traffic_agg_cols:\n",
    "  df_traffic_aggregated['mul_'+ col] = df_traffic_aggregated['Km'] * df_traffic_aggregated[col]\n",
    "df_traffic_aggregated = df_traffic_aggregated.groupby(['road'])[['Km']+traffic_bri_cols+[\"mul_\" + col for col in traffic_agg_cols]].sum().reset_index()\n",
    "for col in traffic_agg_cols:\n",
    "  df_traffic_aggregated[col] = df_traffic_aggregated['mul_'+col] / df_traffic_aggregated['Km']\n",
    "df_traffic_aggregated = df_traffic_aggregated[['road', \"Km\"]+traffic_bri_cols+traffic_agg_cols]"
   ]
  },
  {
   "cell_type": "code",
   "execution_count": 30,
   "metadata": {},
   "outputs": [
    {
     "name": "stdout",
     "output_type": "stream",
     "text": [
      "Empty DataFrame\n",
      "Columns: [road, Km, A_bridges, B_bridges, C_bridges, D_bridges, Heavy Truck, Medium Truck, Small Truck, Large Bus, Medium Bus, Micro Bus, Utility, Car, Auto Rickshaw, Motor Cycle, Bi-Cycle, Cycle Rickshaw, Cart, Motorized, Non Motorized, AADT, width, nrLanes, vulnerability, criticality, priority]\n",
      "Index: []\n",
      "\n",
      "[0 rows x 27 columns]\n"
     ]
    }
   ],
   "source": [
    "print(df_traffic_aggregated.head(0))"
   ]
  },
  {
   "cell_type": "code",
   "execution_count": 31,
   "metadata": {},
   "outputs": [],
   "source": [
    "df_traffic_aggregated['segmentNo'] = 1"
   ]
  },
  {
   "cell_type": "code",
   "execution_count": 32,
   "metadata": {},
   "outputs": [
    {
     "name": "stdout",
     "output_type": "stream",
     "text": [
      "17194.0\n"
     ]
    }
   ],
   "source": [
    "print(df_traffic_aggregated.A_bridges.sum()+\n",
    "     df_traffic_aggregated.B_bridges.sum()+\n",
    "     df_traffic_aggregated.C_bridges.sum()+\n",
    "     df_traffic_aggregated.D_bridges.sum())"
   ]
  },
  {
   "cell_type": "code",
   "execution_count": 33,
   "metadata": {},
   "outputs": [
    {
     "name": "stdout",
     "output_type": "stream",
     "text": [
      "17323\n"
     ]
    }
   ],
   "source": [
    "print(len(df_bridges_transformed))"
   ]
  },
  {
   "cell_type": "code",
   "execution_count": 34,
   "metadata": {},
   "outputs": [],
   "source": [
    "df_traffic_transformed['lat'] = [df_roads_transformed[(df_roads_transformed.road == df_traffic_transformed.road[i])&\n",
    "                                                      (df_roads_transformed.segmentNo == df_traffic_transformed.segmentNo[i])]['lat'].median()\n",
    "                                 for i in range(len(df_traffic_transformed))]\n",
    "df_traffic_transformed['lon'] = [df_roads_transformed[(df_roads_transformed.road == df_traffic_transformed.road[i])&\n",
    "                                                      (df_roads_transformed.segmentNo == df_traffic_transformed.segmentNo[i])]['lon'].median()\n",
    "                                 for i in range(len(df_traffic_transformed))]"
   ]
  },
  {
   "cell_type": "code",
   "execution_count": 35,
   "metadata": {},
   "outputs": [],
   "source": [
    "df_traffic_aggregated['lat'] = [df_roads_transformed[df_roads_transformed.road == df_traffic_aggregated.road[i]]['lat'].median()\n",
    "                                 for i in range(len(df_traffic_aggregated))]\n",
    "df_traffic_aggregated['lon'] = [df_roads_transformed[df_roads_transformed.road == df_traffic_aggregated.road[i]]['lon'].median()\n",
    "                                 for i in range(len(df_traffic_aggregated))]"
   ]
  },
  {
   "cell_type": "code",
   "execution_count": null,
   "metadata": {},
   "outputs": [],
   "source": []
  },
  {
   "cell_type": "markdown",
   "metadata": {},
   "source": [
    "## Exporting cleaned data"
   ]
  },
  {
   "cell_type": "code",
   "execution_count": 36,
   "metadata": {},
   "outputs": [],
   "source": [
    "df_bridges_transformed.to_csv('cleaned_data/bridges.csv', index=False)\n",
    "df_roads_transformed.to_csv('cleaned_data/roads.csv', index=False)\n",
    "df_widths_transformed.to_csv('cleaned_data/widths.csv', index=False)\n",
    "df_traffic_transformed.to_csv('cleaned_data/traffic.csv', index=False)\n",
    "df_widths_aggregated.to_csv('cleaned_data/widths_aggregated.csv', index=False)\n",
    "df_traffic_aggregated.to_csv('cleaned_data/traffic_aggregated.csv', index=False)"
   ]
  }
 ],
 "metadata": {
  "kernelspec": {
   "display_name": "Python 3",
   "language": "python",
   "name": "python3"
  },
  "language_info": {
   "codemirror_mode": {
    "name": "ipython",
    "version": 3
   },
   "file_extension": ".py",
   "mimetype": "text/x-python",
   "name": "python",
   "nbconvert_exporter": "python",
   "pygments_lexer": "ipython3",
   "version": "3.6.4"
  }
 },
 "nbformat": 4,
 "nbformat_minor": 2
}
